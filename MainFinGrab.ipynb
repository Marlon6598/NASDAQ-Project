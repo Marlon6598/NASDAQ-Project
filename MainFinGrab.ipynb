{
 "cells": [
  {
   "cell_type": "code",
   "execution_count": 1,
   "id": "b485cc98",
   "metadata": {},
   "outputs": [],
   "source": [
    "import matplotlib.pyplot as plt\n",
    "import pandas as pd\n",
    "import numpy as np\n",
    "import requests\n",
    "import time\n",
    "import matplotlib.dates as mdates\n",
    "from scipy.stats import linregress\n",
    "from api_key import api_key\n",
    "from functools import reduce\n",
    "from matplotlib.ticker import (MultipleLocator, AutoMinorLocator)\n",
    "from matplotlib.dates import (YEARLY, DateFormatter, rrulewrapper, RRuleLocator, drange)\n",
    "from matplotlib.dates import AutoDateLocator, AutoDateFormatter, date2num\n",
    "from decimal import Decimal"
   ]
  },
  {
   "cell_type": "code",
   "execution_count": 2,
   "id": "19820db0",
   "metadata": {},
   "outputs": [],
   "source": [
    "# Set the base URL\n",
    "# url = \"https://data.nasdaq.com/api/v3/datasets/RATEINF/CPI_USA.csv?\"\n",
    "# queryURL = f\"{url}appid={api_key}\"\n",
    "# queryURL"
   ]
  },
  {
   "cell_type": "code",
   "execution_count": 3,
   "id": "61cbdf35",
   "metadata": {},
   "outputs": [],
   "source": [
    "# import data files\n",
    "facebookDataPath = \"data/Facebook.csv\"\n",
    "amazonDataPath = \"data/Amazon.csv\"\n",
    "appleDataPath = \"data/Apple.csv\"\n",
    "netflixDataPath = \"data/Netflix.csv\"\n",
    "googleDataPath = \"data/Google.csv\"\n",
    "\n",
    "# read and display the data\n",
    "facebookCSV = pd.read_csv(facebookDataPath, index_col = \"Date\", parse_dates = True)\n",
    "amazonCSV = pd.read_csv(amazonDataPath, index_col = \"Date\", parse_dates = True)\n",
    "appleCSV = pd.read_csv(appleDataPath, index_col = \"Date\", parse_dates = True)\n",
    "netflixCSV = pd.read_csv(netflixDataPath, index_col = \"Date\", parse_dates = True)\n",
    "googleCSV = pd.read_csv(googleDataPath, index_col = \"Date\", parse_dates = True)"
   ]
  },
  {
   "cell_type": "code",
   "execution_count": 4,
   "id": "8de5b3a0",
   "metadata": {},
   "outputs": [],
   "source": [
    "# add a label column to each stock's dataset\n",
    "facebookCSV.insert(0, \"Label\", \"Facebook\")\n",
    "amazonCSV.insert(0, \"Label\", \"Amazon\")\n",
    "appleCSV.insert(0, \"Label\", \"Apple\")\n",
    "netflixCSV.insert(0, \"Label\", \"Netlfix\")\n",
    "googleCSV.insert(0, \"Label\", \"Google\")"
   ]
  },
  {
   "cell_type": "code",
   "execution_count": 5,
   "id": "ecd81f73",
   "metadata": {},
   "outputs": [],
   "source": [
    "# locate data only for 2022 -- rows 45 thru 295\n",
    "fb = facebookCSV.iloc[44:294, :]\n",
    "am = amazonCSV.iloc[44:294, :]\n",
    "ap = appleCSV.iloc[44:294, :]\n",
    "nf = netflixCSV.iloc[44:294, :]\n",
    "gl = googleCSV.iloc[44:294, :]"
   ]
  },
  {
   "cell_type": "code",
   "execution_count": 6,
   "id": "f5664739",
   "metadata": {},
   "outputs": [],
   "source": [
    "# merge the 2022 datasets\n",
    "merge1 = pd.merge(fb, am, how = \"outer\")\n",
    "merge2 = pd.merge(merge1, ap, how = \"outer\")\n",
    "merge3 = pd.merge(merge2, nf, how = \"outer\")\n",
    "mergedData = pd.merge(merge3, gl, how = \"outer\")\n",
    "\n",
    "# print mergedData to the output folder for troubleshooting purposes\n",
    "mergedData.to_csv(\"output/printout.csv\", index = False)\n",
    "# mergedData.head()"
   ]
  },
  {
   "cell_type": "code",
   "execution_count": 7,
   "id": "af734821",
   "metadata": {},
   "outputs": [],
   "source": [
    "# Define a function to create Linear Regression plots\n",
    "# xAxis is independent variable\n",
    "# yAxis is dependent variable\n",
    "def linReg(xAxis,yAxis,x_lin_plot,y_lin_plot,yLabel):\n",
    "    (slope, intercept, rvalue, pvalue, stderr) = linregress(xAxis, yAxis)\n",
    "    regression = xAxis * slope + intercept\n",
    "    linEQ = \"y = \" + str(round(slope,4)) + \"x + \" + str(round(intercept,4))\n",
    "    plt.scatter(xAxis,yAxis)\n",
    "    plt.plot(xAxis,regression,\"r-\")\n",
    "    print(f\"The r-value is {rvalue}\")\n",
    "    \n",
    "    plt.annotate(linEQ,(x_lin_plot,y_lin_plot),fontsize=10,color=\"red\")\n",
    "    plt.xlabel(f\"{xLabel}\")\n",
    "    plt.ylabel(f\"{yLabel}\")\n"
   ]
  },
  {
   "cell_type": "code",
   "execution_count": 8,
   "id": "2eb6fef0",
   "metadata": {},
   "outputs": [],
   "source": [
    "def clean_currency(x):\n",
    "    if isinstance(x, str):\n",
    "        return(x.replace('$','').replace(',',''))\n",
    "    return(x)"
   ]
  },
  {
   "cell_type": "code",
   "execution_count": 9,
   "id": "a4f5df49",
   "metadata": {},
   "outputs": [
    {
     "ename": "NameError",
     "evalue": "name 'amazon_SP' is not defined",
     "output_type": "error",
     "traceback": [
      "\u001b[1;31m---------------------------------------------------------------------------\u001b[0m",
      "\u001b[1;31mNameError\u001b[0m                                 Traceback (most recent call last)",
      "\u001b[1;32m~\\AppData\\Local\\Temp\\ipykernel_1408\\365632727.py\u001b[0m in \u001b[0;36m<module>\u001b[1;34m\u001b[0m\n\u001b[0;32m      1\u001b[0m \u001b[1;31m# Plot Amazon Stock Price vs. Time\u001b[0m\u001b[1;33m\u001b[0m\u001b[1;33m\u001b[0m\u001b[0m\n\u001b[1;32m----> 2\u001b[1;33m \u001b[0mcb_amzn\u001b[0m \u001b[1;33m=\u001b[0m \u001b[0mamazon_SP\u001b[0m\u001b[1;33m[\u001b[0m\u001b[1;34m'Close/Last'\u001b[0m\u001b[1;33m]\u001b[0m\u001b[1;33m\u001b[0m\u001b[1;33m\u001b[0m\u001b[0m\n\u001b[0m\u001b[0;32m      3\u001b[0m \u001b[1;31m#print(cb_amzn)\u001b[0m\u001b[1;33m\u001b[0m\u001b[1;33m\u001b[0m\u001b[0m\n\u001b[0;32m      4\u001b[0m \u001b[1;31m# plt.plot(cb_amzn)\u001b[0m\u001b[1;33m\u001b[0m\u001b[1;33m\u001b[0m\u001b[0m\n\u001b[0;32m      5\u001b[0m \u001b[1;33m\u001b[0m\u001b[0m\n",
      "\u001b[1;31mNameError\u001b[0m: name 'amazon_SP' is not defined"
     ]
    }
   ],
   "source": [
    "# Plot Amazon Stock Price vs. Time\n",
    "cb_amzn = amazon_SP['Close/Last']\n",
    "#print(cb_amzn)\n",
    "# plt.plot(cb_amzn)\n",
    "\n",
    "# plt.title(\"Time vs. Stock Price\")\n",
    "# plt.xlabel(\"Market Days 2022\")\n",
    "# plt.ylabel(\"Last Close Stock Price Meta ($)\")\n",
    "\n",
    "# # amazon_SP = amazon_SP.fillna(0)\n",
    "\n",
    "cb_amzn = amazon_SP['Close/Last'].apply(clean_currency).astype('float')\n",
    "print(cb_amzn)\n",
    "# plt.title(\"Time vs. Stock Price\")\n",
    "# plt.xlabel(\"Market Days 2022\")\n",
    "# plt.ylabel(\"Last Close Stock Price Amazon ($)\")\n",
    "# plt.yticks([0,25,100,150,200,249])\n",
    "# plt.savefig('output/amzn_tvsp.png')\n",
    "# plt.show()"
   ]
  },
  {
   "cell_type": "code",
   "execution_count": null,
   "id": "c1580510",
   "metadata": {},
   "outputs": [],
   "source": [
    "cb_amzn = amazon_SP['Close/Last']\n",
    "plt.rcParams[\"figure.figsize\"] = [8.00, 6.00]\n",
    "plt.rcParams[\"figure.autolayout\"] = True\n",
    "fig, ax = plt.subplots()\n",
    "# ytick_loc = [0, 50, 100, 150, 200, 249]\n",
    "# ax.set_yticks(ytick_loc)\n",
    "\n",
    "plt.title(\"Time vs. Stock Price\")\n",
    "plt.xlabel(\"Market Days 2022\")\n",
    "plt.ylabel(\"Last Close Stock Price Amazon ($)\")\n",
    "#plt.yticks([0,50,100,150,200,249])\n",
    "plt.plot(cb_amzn)\n",
    "plt.savefig('output/amzn_tvsp.png')\n",
    "plt.show()"
   ]
  },
  {
   "cell_type": "code",
   "execution_count": null,
   "id": "4ed5a5cf",
   "metadata": {},
   "outputs": [],
   "source": [
    "closing_bell = facebook_SP['Close/Last']\n",
    "plt.plot(closing_bell)\n",
    "\n",
    "cb_amzn = amazon_SP['Close/Last']\n",
    "cb_aapl = apple_SP['Close/Last']\n",
    "cb_nflx = netflix_SP['Close/Last']\n",
    "cb_goog = google_SP['Close/Last']\n",
    "\n",
    "plt.plot(cb_amzn)\n",
    "plt.plot(cb_aapl)\n",
    "plt.plot(cb_nflx)\n",
    "plt.plot(cb_goog)\n",
    "\n",
    "plt.title(\"Time vs. Stock Price\")\n",
    "plt.xlabel(\"Market Days 2022\")\n",
    "plt.ylabel(\"Last Close Stock Price Meta ($)\")\n",
    "\n",
    "\n",
    "\n",
    "\n",
    "plt.yticks([0,50,100,150,200,249])\n",
    "plt.savefig('output/FB_tvsp.png')\n",
    "plt.show()"
   ]
  },
  {
   "cell_type": "code",
   "execution_count": null,
   "id": "f49d5526",
   "metadata": {},
   "outputs": [],
   "source": [
    "# Plot Facebook Stock Price versus time\n",
    "closing_bell = facebook_SP['Close/Last']\n",
    "plt.plot(closing_bell)\n",
    "\n",
    "plt.title(\"Time vs. Stock Price\")\n",
    "plt.xlabel(\"Market Days 2022\")\n",
    "plt.ylabel(\"Last Close Stock Price Meta ($)\")\n",
    "\n",
    "\n",
    "\n",
    "\n",
    "plt.yticks([0,50,100,150,200,249])\n",
    "plt.savefig('output/FB_tvsp.png')\n",
    "plt.show()"
   ]
  },
  {
   "cell_type": "code",
   "execution_count": null,
   "id": "0253d606",
   "metadata": {},
   "outputs": [],
   "source": [
    "# Last = meta['Close/Last']\n",
    "# # Dates = meta['Date']\n",
    "# # plt.plot(Dates,Last)\n",
    "# # plt.show()\n",
    "# plt.plot(Last)\n",
    "# plt.show()"
   ]
  },
  {
   "cell_type": "code",
   "execution_count": null,
   "id": "f1ff6432",
   "metadata": {},
   "outputs": [],
   "source": [
    "# Create a DataFrame for each FAANG company\n",
    "facebook_df = mergedData.loc[mergedData[\"Label\"] == \"Facebook\", :]\n",
    "facebook_df1 = facebook_df.sort_index(ascending=False)\n"
   ]
  },
  {
   "cell_type": "code",
   "execution_count": null,
   "id": "f6165ed4",
   "metadata": {},
   "outputs": [],
   "source": [
    "facebook_df"
   ]
  },
  {
   "cell_type": "code",
   "execution_count": null,
   "id": "8b4e7615",
   "metadata": {},
   "outputs": [],
   "source": [
    "# Stock Price vs. Time Plot Meta\n",
    "Close = facebook_df[\"Close/Last\"]\n",
    "Date = facebook_df1[\"Date\"]\n",
    "locator = AutoDateLocator()\n",
    "formatter = AutoDateFormatter(locator)\n",
    "#rule = rrulewrapper(MONTHLY, bywednesday=1, interval=1)\n",
    "#loc = RRuleLocator(rule)\n",
    "#formatter = DateFormatter('%m/%d/%y')\n",
    "#date1 = datetime.date(2022)\n",
    "\n",
    "plt.rcParams[\"figure.figsize\"] = [8.00, 6.00]\n",
    "plt.rcParams[\"figure.autolayout\"] = True\n",
    "\n",
    "\n",
    "fig, ax = plt.subplots()\n",
    "ytick_loc = [360, 320, 280, 240, 200, 160, 120, 80, 40]\n",
    "ax.set_yticks(ytick_loc)\n",
    "\n",
    "\n",
    "#axes.xaxis.set_major_formatter(fmt)\n",
    "#axes.tick_params(rotation=10)\n",
    "\n",
    "yAxis = Close\n",
    "xAxis = Date\n",
    "plt.plot(Date,Close)\n",
    "plt.title(\"Time vs. Stock Price\")\n",
    "plt.xlabel(\"Market Days 2022\")\n",
    "plt.ylabel(\"Last Close Stock Price Meta ($)\")\n",
    "\n",
    "# linReg(xAxis,yAxis,x_lin_plot,y_lin_plot,yLabel)\n",
    "#plt.gcf().autofmt_xdate()\n",
    "#plt.yticks([10,224])\n",
    "plt.xticks([10,224])\n",
    "plt.show()"
   ]
  },
  {
   "cell_type": "code",
   "execution_count": null,
   "id": "114884e4",
   "metadata": {},
   "outputs": [],
   "source": [
    "# How do interest rate changes from the Federal Reserve affect stock prices during 2022?\n",
    "\n",
    "TreasuryRatesDataPath = \"data/TreasuryRates.csv\"\n",
    "TreasuryRates_csv = pd.read_csv(TreasuryRatesDataPath)\n",
    "TreasuryRates_csv.insert(0, \"Label\", \"Treasury Rates\")\n",
    "tr = TreasuryRates_csv.iloc[45:293, :]\n",
    "fb = facebook_csv.iloc[45:295, :]\n",
    "\n",
    "mergeIntRateFB = pd.merge(fb, tr, on = \"Date\", how = \"outer\")\n",
    "mergeIntRateFB.dropna(axis='columns')\n",
    "mergeIntRateFB.fillna(0)"
   ]
  },
  {
   "cell_type": "code",
   "execution_count": null,
   "id": "ef3d23b0",
   "metadata": {},
   "outputs": [],
   "source": [
    "mergeIntRateFB.fillna(0).to_csv(\"output/mergeIntRateFB.csv\")"
   ]
  },
  {
   "cell_type": "code",
   "execution_count": null,
   "id": "bb4e0101",
   "metadata": {},
   "outputs": [],
   "source": [
    "# Convert Close/Last column (series) from string ($) to float.\n",
    "# longTermRates = mergeIntRateFB['LT Composite > 10 Yrs']\n",
    "# dailyFB_price = mergeIntRateFB['Close/Last']\n",
    "\n",
    "# s = pd.Series(dailyFB_price)\n",
    "# pd.to_numeric(s,errors='ignore')\n",
    "\n",
    "# mergeIntRateFB = {'LT Composite > 10 Yrs': longTermRates,\n",
    "#              'Close/Last': dailyFB_price\n",
    "#              }\n",
    "# mergeIntRateFB_df = pd.Series(longTermRates,dailyFB_price)\n",
    "# pd.to_numeric(mergeIntRateFB_df)\n",
    "#mergeIntRateFB_df['Close/Last'] = mergeIntRateFB_df['Close/Last'].astype('float')\n",
    "#mergeIntRateFB_df.head()\n",
    "\n"
   ]
  },
  {
   "cell_type": "code",
   "execution_count": null,
   "id": "0c471f2c",
   "metadata": {},
   "outputs": [],
   "source": [
    "# provide function to remove dollar signs from 'Close/Last'\n",
    "# https://pbpython.com/currency-cleanup.html\n",
    "def clean_currency(x):\n",
    "    if isinstance(x,str):\n",
    "        return(x.replace('$','').replace(',',''))\n",
    "    return(x)\n",
    "\n"
   ]
  },
  {
   "cell_type": "code",
   "execution_count": null,
   "id": "27e2efe7",
   "metadata": {},
   "outputs": [],
   "source": [
    "# apply clean_currency function to 'Close/Last' to remove strings ($)\n",
    "fill_mergeIRF = mergeIntRateFB.fillna(0)\n",
    "\n",
    "clean_df = fill_mergeIRF['Close/Last'].apply(clean_currency).astype('float')\n",
    "clean_df"
   ]
  },
  {
   "cell_type": "code",
   "execution_count": null,
   "id": "6963c63c",
   "metadata": {},
   "outputs": [],
   "source": [
    "#mergeIntRateFB[\"Close/Last\"] = mergeIntRateFB[\"Close/Last\"].astype(float)\n",
    "LastClose = clean_df#mergeIntRateFB[\"Close/Last\"]\n",
    "IntRate = fill_mergeIRF[\"LT Composite > 10 Yrs\"]\n",
    "plt.rcParams[\"figure.figsize\"] = [8.00, 6.00]\n",
    "plt.rcParams[\"figure.autolayout\"] = True\n",
    "fig, ax = plt.subplots()\n",
    "ytick_loc = [40, 80, 120, 160, 200, 240, 280, 320, 340]\n",
    "ax.set_yticks(ytick_loc)\n",
    "#plt.tick_params(left = False,labelleft = False)\n",
    "# Incorporate the other graph properties\n",
    "plt.title(\"Scatter Plot of Treasury Rates vs. Stock Price\")\n",
    "plt.xlabel(\"Treasury Rates\")\n",
    "plt.ylabel(\"Stock Price\")\n",
    "plt.scatter(IntRate,LastClose)\n",
    "plt.show()"
   ]
  },
  {
   "cell_type": "code",
   "execution_count": null,
   "id": "832fdc0f",
   "metadata": {},
   "outputs": [],
   "source": [
    "mergeIntRateFB['LT Composite > 10 Yrs'].isnull().sum()"
   ]
  },
  {
   "cell_type": "code",
   "execution_count": null,
   "id": "b6ee4c73",
   "metadata": {},
   "outputs": [],
   "source": [
    "mergeIntRateFB['Close/Last'].isnull().sum()"
   ]
  },
  {
   "cell_type": "code",
   "execution_count": null,
   "id": "ab7cda7a",
   "metadata": {},
   "outputs": [],
   "source": [
    "# Linear regression on treasury rates vs. stock price\n",
    "# yAxis =LastClose\n",
    "# xAxis =IntRate\n",
    "yAxis = clean_df\n",
    "xAxis = IntRate\n",
    "\n",
    "y_lin_plot = 100\n",
    "x_lin_plot = -0.06\n",
    "yLabel = \"Stock Price ($)\"\n",
    "xLabel = \"Treasury Rates\"\n",
    "linReg(xAxis,yAxis,x_lin_plot,y_lin_plot,yLabel)\n",
    "#plt.savefig(f\"Fig.5.png\")\n",
    "plt.show()"
   ]
  },
  {
   "cell_type": "code",
   "execution_count": null,
   "id": "a8887cee",
   "metadata": {},
   "outputs": [],
   "source": [
    "# Reduce y ticks for visbility of y values\n",
    "\n",
    "plt.scatter(IntRate,LastClose)\n",
    "#plt.yticks(np.arange(min(LastClose), max(x) + 1, 1.0))\n",
    "plt.ylabel(\"Stock Price ($)\")\n",
    "plt.xlabel(\"Treasury Rates\")\n",
    "ax = plt.gca()\n",
    "ax.axes.yaxis.set_ticklabels([])\n",
    "\n",
    "\n",
    "plt.show()\n",
    "\n",
    "    "
   ]
  },
  {
   "cell_type": "code",
   "execution_count": null,
   "id": "84e347a4",
   "metadata": {},
   "outputs": [],
   "source": [
    "# Format y ticks correctly using matplotlib.ticker import (MultipleLocator, AutoMinorLocator)\n",
    "\n",
    "yax = plt.subplots()\n",
    "yax.scatter(IntRate,LastClose)\n",
    "\n",
    "# Make a plot with major ticks that are multiples of 20 and minor ticks multiples of 5.  Label major ticks with '0f'\n",
    "# formatting but don't label minor ticks.  \n",
    "yax.yaxis.set_major_locator(MultipleLocator(20))\n",
    "yax.yaxis.set_major_formatter('{x:.0f}')\n",
    "\n",
    "# For the minor ticks, us no labels; default NullFormatter\n",
    "yax.yaxis.set_minor_locator(MultipleLocator(10))\n",
    "\n",
    "plt.show()"
   ]
  },
  {
   "cell_type": "code",
   "execution_count": null,
   "id": "7ab8be84",
   "metadata": {},
   "outputs": [],
   "source": [
    "print(LastClose)"
   ]
  },
  {
   "cell_type": "code",
   "execution_count": null,
   "id": "43982d0b",
   "metadata": {},
   "outputs": [],
   "source": [
    "# Format range and interval of ticks on the y-axis\n",
    "plt.scatter(IntRate,LastClose)\n",
    "listOf_Yticks = np.arange(0,300,20)\n",
    "plt.yticks(listOf_Yticks)\n",
    "\n",
    "plt.show()"
   ]
  },
  {
   "cell_type": "code",
   "execution_count": null,
   "id": "c4d4af14",
   "metadata": {},
   "outputs": [],
   "source": [
    "plt.figure(figsize = (12,8))\n",
    "plt.tick_params(left = False,labelleft = False)\n",
    "\n",
    "plt.scatter(IntRate,LastClose)\n",
    "plt.show()"
   ]
  },
  {
   "cell_type": "code",
   "execution_count": null,
   "id": "8707cb47",
   "metadata": {},
   "outputs": [],
   "source": [
    "ax = plt.scatter.axes(IntRate,LastClose)\n",
    "#plt.scatter(IntRate,LastClose)\n",
    "ax.set_yticks([20,40,60,80,100,120,140,160,180,200,220,240,260,280,300,320,340])\n",
    "plt.show()"
   ]
  }
 ],
 "metadata": {
  "kernelspec": {
   "display_name": "Python 3 (ipykernel)",
   "language": "python",
   "name": "python3"
  },
  "language_info": {
   "codemirror_mode": {
    "name": "ipython",
    "version": 3
   },
   "file_extension": ".py",
   "mimetype": "text/x-python",
   "name": "python",
   "nbconvert_exporter": "python",
   "pygments_lexer": "ipython3",
   "version": "3.9.13"
  }
 },
 "nbformat": 4,
 "nbformat_minor": 5
}
