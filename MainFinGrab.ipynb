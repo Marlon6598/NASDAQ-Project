{
 "cells": [
  {
   "cell_type": "code",
   "execution_count": 1,
   "id": "d1babed3",
   "metadata": {},
   "outputs": [],
   "source": [
    "import matplotlib.pyplot as plt\n",
    "import pandas as pd\n",
    "import numpy as np\n",
    "import requests\n",
    "import time\n",
    "from scipy.stats import linregress\n",
    "from api_keys import nas_api_key\n"
   ]
  },
  {
   "cell_type": "code",
   "execution_count": 2,
   "id": "fb6a1d39",
   "metadata": {},
   "outputs": [
    {
     "name": "stdout",
     "output_type": "stream",
     "text": [
      "https://data.nasdaq.com/api/v3/datasets/RATEINF/CPI_USA.csv?appid=fZZGHvCirnsxtCCmwm3W\n"
     ]
    }
   ],
   "source": [
    "# Set the base URL  api_key=fZZGHvCirnsxtCCmwm3W\n",
    "url = \"https://data.nasdaq.com/api/v3/datasets/RATEINF/CPI_USA.csv?\"\n",
    "queryURL = f\"{url}appid={nas_api_key}\"\n",
    "\n",
    "print(queryURL)\n",
    "\n",
    "# Define an empty list to fetch data \n",
    "#cpi_data = []\n",
    "\n",
    "# Print to logger\n",
    "#print(\"Beginning Data Retrieval    \")\n",
    "#print(\"----------------------------\")\n"
   ]
  },
  {
   "cell_type": "code",
   "execution_count": 4,
   "id": "235eaeb9",
   "metadata": {},
   "outputs": [
    {
     "name": "stdout",
     "output_type": "stream",
     "text": [
      "https://data.nasdaq.com/api/v3/datasets/RATEINF/CPI_USA.json?appid=fZZGHvCirnsxtCCmwm3W\n"
     ]
    }
   ],
   "source": [
    "# Set the base URL api_key=fZZGHvCirnsxtCCmwm3W&transform=rdiff\n",
    "url = \"https://data.nasdaq.com/api/v3/datasets/RATEINF/CPI_USA.json?\"\n",
    "queryURLjson = f\"{url}appid={nas_api_key}\"\n",
    "\n",
    "print(queryURLjson)"
   ]
  },
  {
   "cell_type": "code",
   "execution_count": null,
   "id": "1e2ea887",
   "metadata": {},
   "outputs": [],
   "source": []
  }
 ],
 "metadata": {
  "kernelspec": {
   "display_name": "Python 3 (ipykernel)",
   "language": "python",
   "name": "python3"
  },
  "language_info": {
   "codemirror_mode": {
    "name": "ipython",
    "version": 3
   },
   "file_extension": ".py",
   "mimetype": "text/x-python",
   "name": "python",
   "nbconvert_exporter": "python",
   "pygments_lexer": "ipython3",
   "version": "3.9.13"
  }
 },
 "nbformat": 4,
 "nbformat_minor": 5
}
